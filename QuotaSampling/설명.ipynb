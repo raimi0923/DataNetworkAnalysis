{
 "cells": [
  {
   "cell_type": "markdown",
   "metadata": {
    "toc": true
   },
   "source": [
    "<h1>Table of Contents<span class=\"tocSkip\"></span></h1>\n",
    "<div class=\"toc\"><ul class=\"toc-item\"><li><span><a href=\"#마지막-체크\" data-toc-modified-id=\"마지막-체크-1\"><span class=\"toc-item-num\">1&nbsp;&nbsp;</span>마지막 체크</a></span></li></ul></div>"
   ]
  },
  {
   "cell_type": "code",
   "execution_count": 192,
   "metadata": {
    "ExecuteTime": {
     "end_time": "2019-09-04T15:46:54.917120Z",
     "start_time": "2019-09-04T15:46:54.913129Z"
    }
   },
   "outputs": [],
   "source": [
    "import pandas as pd # 데이터 전처리를 위한 라이브러리\n",
    "import numpy as np # 행렬 처리를 위한 라이브러리"
   ]
  },
  {
   "cell_type": "code",
   "execution_count": 137,
   "metadata": {
    "ExecuteTime": {
     "end_time": "2019-09-04T15:36:05.786941Z",
     "start_time": "2019-09-04T15:36:05.782950Z"
    }
   },
   "outputs": [],
   "source": [
    "# Define Number and Level\n",
    "levels = ['광역시도' ,'시군구' ,'읍면동']\n",
    "level = '광역시도'\n",
    "num = 800 # 제한하는 값이 따로 있는지\n",
    "filename = '19년 7월 인구현황(8월작성)'\n",
    "\n",
    "# levels에서 선택된 level은 제외\n",
    "levels.remove(level)"
   ]
  },
  {
   "cell_type": "code",
   "execution_count": 138,
   "metadata": {
    "ExecuteTime": {
     "end_time": "2019-09-04T15:36:11.600597Z",
     "start_time": "2019-09-04T15:36:06.465427Z"
    },
    "hide_input": true
   },
   "outputs": [],
   "source": [
    "# Load Data\n",
    "df = pd.read_excel(\"데이터/{}.xlsx\".format(filename), sheet_name=1)\n",
    "df = df[df.구분==level]\n",
    "df = df.drop(levels, axis=1)"
   ]
  },
  {
   "cell_type": "code",
   "execution_count": 139,
   "metadata": {
    "ExecuteTime": {
     "end_time": "2019-09-04T15:36:11.699460Z",
     "start_time": "2019-09-04T15:36:11.686494Z"
    },
    "scrolled": false
   },
   "outputs": [
    {
     "data": {
      "text/html": [
       "<div>\n",
       "<style scoped>\n",
       "    .dataframe tbody tr th:only-of-type {\n",
       "        vertical-align: middle;\n",
       "    }\n",
       "\n",
       "    .dataframe tbody tr th {\n",
       "        vertical-align: top;\n",
       "    }\n",
       "\n",
       "    .dataframe thead th {\n",
       "        text-align: right;\n",
       "    }\n",
       "</style>\n",
       "<table border=\"1\" class=\"dataframe\">\n",
       "  <thead>\n",
       "    <tr style=\"text-align: right;\">\n",
       "      <th></th>\n",
       "      <th>구분</th>\n",
       "      <th>광역시도</th>\n",
       "      <th>남 19-29세</th>\n",
       "      <th>남 30대</th>\n",
       "      <th>남 40대</th>\n",
       "      <th>남 50대</th>\n",
       "      <th>남 60세 이상</th>\n",
       "      <th>여 19-29세</th>\n",
       "      <th>여 30대</th>\n",
       "      <th>여 40대</th>\n",
       "      <th>여 50대</th>\n",
       "      <th>여 60세이상</th>\n",
       "      <th>남 합계</th>\n",
       "      <th>여 합계</th>\n",
       "      <th>총계</th>\n",
       "    </tr>\n",
       "  </thead>\n",
       "  <tbody>\n",
       "    <tr>\n",
       "      <th>0</th>\n",
       "      <td>광역시도</td>\n",
       "      <td>서울특별시</td>\n",
       "      <td>772628</td>\n",
       "      <td>763229</td>\n",
       "      <td>778853</td>\n",
       "      <td>758124</td>\n",
       "      <td>967381</td>\n",
       "      <td>796778</td>\n",
       "      <td>763233</td>\n",
       "      <td>791426</td>\n",
       "      <td>790462</td>\n",
       "      <td>1170959</td>\n",
       "      <td>4040215</td>\n",
       "      <td>4312858</td>\n",
       "      <td>8353073</td>\n",
       "    </tr>\n",
       "    <tr>\n",
       "      <th>450</th>\n",
       "      <td>광역시도</td>\n",
       "      <td>부산광역시</td>\n",
       "      <td>250679</td>\n",
       "      <td>226701</td>\n",
       "      <td>261279</td>\n",
       "      <td>284872</td>\n",
       "      <td>402061</td>\n",
       "      <td>227315</td>\n",
       "      <td>217102</td>\n",
       "      <td>258866</td>\n",
       "      <td>304155</td>\n",
       "      <td>494673</td>\n",
       "      <td>1425592</td>\n",
       "      <td>1502111</td>\n",
       "      <td>2927703</td>\n",
       "    </tr>\n",
       "    <tr>\n",
       "      <th>673</th>\n",
       "      <td>광역시도</td>\n",
       "      <td>대구광역시</td>\n",
       "      <td>193178</td>\n",
       "      <td>160362</td>\n",
       "      <td>195810</td>\n",
       "      <td>211316</td>\n",
       "      <td>242479</td>\n",
       "      <td>165759</td>\n",
       "      <td>151258</td>\n",
       "      <td>200962</td>\n",
       "      <td>220150</td>\n",
       "      <td>305662</td>\n",
       "      <td>1003145</td>\n",
       "      <td>1043791</td>\n",
       "      <td>2046936</td>\n",
       "    </tr>\n",
       "    <tr>\n",
       "      <th>823</th>\n",
       "      <td>광역시도</td>\n",
       "      <td>인천광역시</td>\n",
       "      <td>232021</td>\n",
       "      <td>219865</td>\n",
       "      <td>250219</td>\n",
       "      <td>259402</td>\n",
       "      <td>265413</td>\n",
       "      <td>212114</td>\n",
       "      <td>206515</td>\n",
       "      <td>240572</td>\n",
       "      <td>258497</td>\n",
       "      <td>314533</td>\n",
       "      <td>1226920</td>\n",
       "      <td>1232231</td>\n",
       "      <td>2459151</td>\n",
       "    </tr>\n",
       "    <tr>\n",
       "      <th>991</th>\n",
       "      <td>광역시도</td>\n",
       "      <td>광주광역시</td>\n",
       "      <td>119834</td>\n",
       "      <td>99414</td>\n",
       "      <td>121881</td>\n",
       "      <td>115456</td>\n",
       "      <td>124248</td>\n",
       "      <td>109205</td>\n",
       "      <td>97011</td>\n",
       "      <td>123592</td>\n",
       "      <td>117854</td>\n",
       "      <td>156606</td>\n",
       "      <td>580833</td>\n",
       "      <td>604268</td>\n",
       "      <td>1185101</td>\n",
       "    </tr>\n",
       "  </tbody>\n",
       "</table>\n",
       "</div>"
      ],
      "text/plain": [
       "       구분   광역시도  남 19-29세   남 30대   남 40대   남 50대  남 60세 이상  여 19-29세  \\\n",
       "0    광역시도  서울특별시    772628  763229  778853  758124    967381    796778   \n",
       "450  광역시도  부산광역시    250679  226701  261279  284872    402061    227315   \n",
       "673  광역시도  대구광역시    193178  160362  195810  211316    242479    165759   \n",
       "823  광역시도  인천광역시    232021  219865  250219  259402    265413    212114   \n",
       "991  광역시도  광주광역시    119834   99414  121881  115456    124248    109205   \n",
       "\n",
       "      여 30대   여 40대   여 50대  여 60세이상     남 합계     여 합계       총계  \n",
       "0    763233  791426  790462  1170959  4040215  4312858  8353073  \n",
       "450  217102  258866  304155   494673  1425592  1502111  2927703  \n",
       "673  151258  200962  220150   305662  1003145  1043791  2046936  \n",
       "823  206515  240572  258497   314533  1226920  1232231  2459151  \n",
       "991   97011  123592  117854   156606   580833   604268  1185101  "
      ]
     },
     "execution_count": 139,
     "metadata": {},
     "output_type": "execute_result"
    }
   ],
   "source": [
    "df.head()"
   ]
  },
  {
   "cell_type": "code",
   "execution_count": 140,
   "metadata": {
    "ExecuteTime": {
     "end_time": "2019-09-04T15:36:11.784234Z",
     "start_time": "2019-09-04T15:36:11.781241Z"
    }
   },
   "outputs": [],
   "source": [
    "# Define Features\n",
    "male_cols = ['남 19-29세', '남 30대', '남 40대', '남 50대', '남 60세 이상']\n",
    "female_cols = ['여 19-29세', '여 30대', '여 40대', '여 50대', '여 60세이상']\n",
    "total_cols = male_cols + female_cols"
   ]
  },
  {
   "cell_type": "code",
   "execution_count": 141,
   "metadata": {
    "ExecuteTime": {
     "end_time": "2019-09-04T15:36:11.867012Z",
     "start_time": "2019-09-04T15:36:11.862026Z"
    }
   },
   "outputs": [
    {
     "name": "stdout",
     "output_type": "stream",
     "text": [
      "전체 인구수:  43222320\n"
     ]
    }
   ],
   "source": [
    "# Total Population\n",
    "total_pop = df[total_cols].sum().sum()\n",
    "print('전체 인구수: ',total_pop)"
   ]
  },
  {
   "cell_type": "code",
   "execution_count": 142,
   "metadata": {
    "ExecuteTime": {
     "end_time": "2019-09-04T15:36:11.968437Z",
     "start_time": "2019-09-04T15:36:11.950484Z"
    }
   },
   "outputs": [],
   "source": [
    "# 2단계 반올림 전\n",
    "before_df = df.copy()\n",
    "# 각 셀값을 전체 인구로 나누고 정해진 값으로 곱ㅎ\n",
    "before_df[total_cols] = (df[total_cols] / total_pop) * num \n",
    "# 남/여/총 합계 구하기\n",
    "before_df['남 합계'] = before_df[male_cols].sum(axis=1)\n",
    "before_df['여 합계'] = before_df[female_cols].sum(axis=1)\n",
    "before_df['총계'] = before_df[['남 합계' ,'여 합계']].sum(axis=1)\n",
    "# 2단계 남여 각각 합계의 반올림\n",
    "before_sex_sum = before_df[['남 합계' ,'여 합계']].sum().round()"
   ]
  },
  {
   "cell_type": "code",
   "execution_count": 143,
   "metadata": {
    "ExecuteTime": {
     "end_time": "2019-09-04T15:36:12.060190Z",
     "start_time": "2019-09-04T15:36:12.048222Z"
    }
   },
   "outputs": [
    {
     "data": {
      "text/html": [
       "<div>\n",
       "<style scoped>\n",
       "    .dataframe tbody tr th:only-of-type {\n",
       "        vertical-align: middle;\n",
       "    }\n",
       "\n",
       "    .dataframe tbody tr th {\n",
       "        vertical-align: top;\n",
       "    }\n",
       "\n",
       "    .dataframe thead th {\n",
       "        text-align: right;\n",
       "    }\n",
       "</style>\n",
       "<table border=\"1\" class=\"dataframe\">\n",
       "  <thead>\n",
       "    <tr style=\"text-align: right;\">\n",
       "      <th></th>\n",
       "      <th>구분</th>\n",
       "      <th>광역시도</th>\n",
       "      <th>남 19-29세</th>\n",
       "      <th>남 30대</th>\n",
       "      <th>남 40대</th>\n",
       "      <th>남 50대</th>\n",
       "      <th>남 60세 이상</th>\n",
       "      <th>여 19-29세</th>\n",
       "      <th>여 30대</th>\n",
       "      <th>여 40대</th>\n",
       "      <th>여 50대</th>\n",
       "      <th>여 60세이상</th>\n",
       "      <th>남 합계</th>\n",
       "      <th>여 합계</th>\n",
       "      <th>총계</th>\n",
       "    </tr>\n",
       "  </thead>\n",
       "  <tbody>\n",
       "    <tr>\n",
       "      <th>0</th>\n",
       "      <td>광역시도</td>\n",
       "      <td>서울특별시</td>\n",
       "      <td>14.300537</td>\n",
       "      <td>14.126572</td>\n",
       "      <td>14.415756</td>\n",
       "      <td>14.032083</td>\n",
       "      <td>17.905212</td>\n",
       "      <td>14.747529</td>\n",
       "      <td>14.126646</td>\n",
       "      <td>14.648469</td>\n",
       "      <td>14.630626</td>\n",
       "      <td>21.673228</td>\n",
       "      <td>74.780160</td>\n",
       "      <td>79.826497</td>\n",
       "      <td>154.606657</td>\n",
       "    </tr>\n",
       "    <tr>\n",
       "      <th>450</th>\n",
       "      <td>광역시도</td>\n",
       "      <td>부산광역시</td>\n",
       "      <td>4.639806</td>\n",
       "      <td>4.195999</td>\n",
       "      <td>4.836001</td>\n",
       "      <td>5.272683</td>\n",
       "      <td>7.441729</td>\n",
       "      <td>4.207363</td>\n",
       "      <td>4.018331</td>\n",
       "      <td>4.791339</td>\n",
       "      <td>5.629591</td>\n",
       "      <td>9.155881</td>\n",
       "      <td>26.386219</td>\n",
       "      <td>27.802506</td>\n",
       "      <td>54.188725</td>\n",
       "    </tr>\n",
       "    <tr>\n",
       "      <th>673</th>\n",
       "      <td>광역시도</td>\n",
       "      <td>대구광역시</td>\n",
       "      <td>3.575523</td>\n",
       "      <td>2.968133</td>\n",
       "      <td>3.624239</td>\n",
       "      <td>3.911238</td>\n",
       "      <td>4.488033</td>\n",
       "      <td>3.068026</td>\n",
       "      <td>2.799628</td>\n",
       "      <td>3.719597</td>\n",
       "      <td>4.074747</td>\n",
       "      <td>5.657484</td>\n",
       "      <td>18.567166</td>\n",
       "      <td>19.319481</td>\n",
       "      <td>37.886647</td>\n",
       "    </tr>\n",
       "    <tr>\n",
       "      <th>823</th>\n",
       "      <td>광역시도</td>\n",
       "      <td>인천광역시</td>\n",
       "      <td>4.294466</td>\n",
       "      <td>4.069472</td>\n",
       "      <td>4.631292</td>\n",
       "      <td>4.801260</td>\n",
       "      <td>4.912517</td>\n",
       "      <td>3.926009</td>\n",
       "      <td>3.822377</td>\n",
       "      <td>4.452736</td>\n",
       "      <td>4.784509</td>\n",
       "      <td>5.821677</td>\n",
       "      <td>22.709008</td>\n",
       "      <td>22.807309</td>\n",
       "      <td>45.516317</td>\n",
       "    </tr>\n",
       "    <tr>\n",
       "      <th>991</th>\n",
       "      <td>광역시도</td>\n",
       "      <td>광주광역시</td>\n",
       "      <td>2.218002</td>\n",
       "      <td>1.840049</td>\n",
       "      <td>2.255890</td>\n",
       "      <td>2.136970</td>\n",
       "      <td>2.299701</td>\n",
       "      <td>2.021270</td>\n",
       "      <td>1.795572</td>\n",
       "      <td>2.287559</td>\n",
       "      <td>2.181354</td>\n",
       "      <td>2.898613</td>\n",
       "      <td>10.750612</td>\n",
       "      <td>11.184370</td>\n",
       "      <td>21.934982</td>\n",
       "    </tr>\n",
       "  </tbody>\n",
       "</table>\n",
       "</div>"
      ],
      "text/plain": [
       "       구분   광역시도   남 19-29세      남 30대      남 40대      남 50대   남 60세 이상  \\\n",
       "0    광역시도  서울특별시  14.300537  14.126572  14.415756  14.032083  17.905212   \n",
       "450  광역시도  부산광역시   4.639806   4.195999   4.836001   5.272683   7.441729   \n",
       "673  광역시도  대구광역시   3.575523   2.968133   3.624239   3.911238   4.488033   \n",
       "823  광역시도  인천광역시   4.294466   4.069472   4.631292   4.801260   4.912517   \n",
       "991  광역시도  광주광역시   2.218002   1.840049   2.255890   2.136970   2.299701   \n",
       "\n",
       "      여 19-29세      여 30대      여 40대      여 50대    여 60세이상       남 합계  \\\n",
       "0    14.747529  14.126646  14.648469  14.630626  21.673228  74.780160   \n",
       "450   4.207363   4.018331   4.791339   5.629591   9.155881  26.386219   \n",
       "673   3.068026   2.799628   3.719597   4.074747   5.657484  18.567166   \n",
       "823   3.926009   3.822377   4.452736   4.784509   5.821677  22.709008   \n",
       "991   2.021270   1.795572   2.287559   2.181354   2.898613  10.750612   \n",
       "\n",
       "          여 합계          총계  \n",
       "0    79.826497  154.606657  \n",
       "450  27.802506   54.188725  \n",
       "673  19.319481   37.886647  \n",
       "823  22.807309   45.516317  \n",
       "991  11.184370   21.934982  "
      ]
     },
     "execution_count": 143,
     "metadata": {},
     "output_type": "execute_result"
    }
   ],
   "source": [
    "before_df.head()"
   ]
  },
  {
   "cell_type": "code",
   "execution_count": 144,
   "metadata": {
    "ExecuteTime": {
     "end_time": "2019-09-04T15:36:12.144964Z",
     "start_time": "2019-09-04T15:36:12.139977Z"
    }
   },
   "outputs": [
    {
     "data": {
      "text/plain": [
       "남 합계    397.0\n",
       "여 합계    403.0\n",
       "dtype: float64"
      ]
     },
     "execution_count": 144,
     "metadata": {},
     "output_type": "execute_result"
    }
   ],
   "source": [
    "before_sex_sum"
   ]
  },
  {
   "cell_type": "code",
   "execution_count": 194,
   "metadata": {
    "ExecuteTime": {
     "end_time": "2019-09-04T16:05:13.640757Z",
     "start_time": "2019-09-04T16:05:13.618816Z"
    }
   },
   "outputs": [],
   "source": [
    "# 3단계 반올림 후\n",
    "after_df = df.copy()\n",
    "# 각 셀값을 전체 인구로 나누고 정해진 값으로 곱ㅎ\n",
    "after_df[total_cols] = (df[total_cols] / total_pop) * num \n",
    "# 각 셀을 반올림\n",
    "after_df[total_cols] = after_df[total_cols].round() \n",
    "# 남/여/총 합계 구하기\n",
    "after_df['남 합계'] = after_df[male_cols].sum(axis=1)\n",
    "after_df['여 합계'] = after_df[female_cols].sum(axis=1)\n",
    "after_df['총계'] = after_df[['남 합계' ,'여 합계']].sum(axis=1)\n",
    "# 3단계 남여 각각 합계의 반올림\n",
    "after_sex_sum = after_df[['남 합계' ,'여 합계']].sum()"
   ]
  },
  {
   "cell_type": "code",
   "execution_count": 195,
   "metadata": {
    "ExecuteTime": {
     "end_time": "2019-09-04T16:05:13.879244Z",
     "start_time": "2019-09-04T16:05:13.865282Z"
    }
   },
   "outputs": [
    {
     "data": {
      "text/html": [
       "<div>\n",
       "<style scoped>\n",
       "    .dataframe tbody tr th:only-of-type {\n",
       "        vertical-align: middle;\n",
       "    }\n",
       "\n",
       "    .dataframe tbody tr th {\n",
       "        vertical-align: top;\n",
       "    }\n",
       "\n",
       "    .dataframe thead th {\n",
       "        text-align: right;\n",
       "    }\n",
       "</style>\n",
       "<table border=\"1\" class=\"dataframe\">\n",
       "  <thead>\n",
       "    <tr style=\"text-align: right;\">\n",
       "      <th></th>\n",
       "      <th>구분</th>\n",
       "      <th>광역시도</th>\n",
       "      <th>남 19-29세</th>\n",
       "      <th>남 30대</th>\n",
       "      <th>남 40대</th>\n",
       "      <th>남 50대</th>\n",
       "      <th>남 60세 이상</th>\n",
       "      <th>여 19-29세</th>\n",
       "      <th>여 30대</th>\n",
       "      <th>여 40대</th>\n",
       "      <th>여 50대</th>\n",
       "      <th>여 60세이상</th>\n",
       "      <th>남 합계</th>\n",
       "      <th>여 합계</th>\n",
       "      <th>총계</th>\n",
       "    </tr>\n",
       "  </thead>\n",
       "  <tbody>\n",
       "    <tr>\n",
       "      <th>0</th>\n",
       "      <td>광역시도</td>\n",
       "      <td>서울특별시</td>\n",
       "      <td>14.0</td>\n",
       "      <td>14.0</td>\n",
       "      <td>14.0</td>\n",
       "      <td>14.0</td>\n",
       "      <td>18.0</td>\n",
       "      <td>15.0</td>\n",
       "      <td>14.0</td>\n",
       "      <td>15.0</td>\n",
       "      <td>15.0</td>\n",
       "      <td>22.0</td>\n",
       "      <td>74.0</td>\n",
       "      <td>81.0</td>\n",
       "      <td>155.0</td>\n",
       "    </tr>\n",
       "    <tr>\n",
       "      <th>450</th>\n",
       "      <td>광역시도</td>\n",
       "      <td>부산광역시</td>\n",
       "      <td>5.0</td>\n",
       "      <td>4.0</td>\n",
       "      <td>5.0</td>\n",
       "      <td>5.0</td>\n",
       "      <td>7.0</td>\n",
       "      <td>4.0</td>\n",
       "      <td>4.0</td>\n",
       "      <td>5.0</td>\n",
       "      <td>6.0</td>\n",
       "      <td>9.0</td>\n",
       "      <td>26.0</td>\n",
       "      <td>28.0</td>\n",
       "      <td>54.0</td>\n",
       "    </tr>\n",
       "    <tr>\n",
       "      <th>673</th>\n",
       "      <td>광역시도</td>\n",
       "      <td>대구광역시</td>\n",
       "      <td>4.0</td>\n",
       "      <td>3.0</td>\n",
       "      <td>4.0</td>\n",
       "      <td>4.0</td>\n",
       "      <td>4.0</td>\n",
       "      <td>3.0</td>\n",
       "      <td>3.0</td>\n",
       "      <td>4.0</td>\n",
       "      <td>4.0</td>\n",
       "      <td>6.0</td>\n",
       "      <td>19.0</td>\n",
       "      <td>20.0</td>\n",
       "      <td>39.0</td>\n",
       "    </tr>\n",
       "    <tr>\n",
       "      <th>823</th>\n",
       "      <td>광역시도</td>\n",
       "      <td>인천광역시</td>\n",
       "      <td>4.0</td>\n",
       "      <td>4.0</td>\n",
       "      <td>5.0</td>\n",
       "      <td>5.0</td>\n",
       "      <td>5.0</td>\n",
       "      <td>4.0</td>\n",
       "      <td>4.0</td>\n",
       "      <td>4.0</td>\n",
       "      <td>5.0</td>\n",
       "      <td>6.0</td>\n",
       "      <td>23.0</td>\n",
       "      <td>23.0</td>\n",
       "      <td>46.0</td>\n",
       "    </tr>\n",
       "    <tr>\n",
       "      <th>991</th>\n",
       "      <td>광역시도</td>\n",
       "      <td>광주광역시</td>\n",
       "      <td>2.0</td>\n",
       "      <td>2.0</td>\n",
       "      <td>2.0</td>\n",
       "      <td>2.0</td>\n",
       "      <td>2.0</td>\n",
       "      <td>2.0</td>\n",
       "      <td>2.0</td>\n",
       "      <td>2.0</td>\n",
       "      <td>2.0</td>\n",
       "      <td>3.0</td>\n",
       "      <td>10.0</td>\n",
       "      <td>11.0</td>\n",
       "      <td>21.0</td>\n",
       "    </tr>\n",
       "  </tbody>\n",
       "</table>\n",
       "</div>"
      ],
      "text/plain": [
       "       구분   광역시도  남 19-29세  남 30대  남 40대  남 50대  남 60세 이상  여 19-29세  여 30대  \\\n",
       "0    광역시도  서울특별시      14.0   14.0   14.0   14.0      18.0      15.0   14.0   \n",
       "450  광역시도  부산광역시       5.0    4.0    5.0    5.0       7.0       4.0    4.0   \n",
       "673  광역시도  대구광역시       4.0    3.0    4.0    4.0       4.0       3.0    3.0   \n",
       "823  광역시도  인천광역시       4.0    4.0    5.0    5.0       5.0       4.0    4.0   \n",
       "991  광역시도  광주광역시       2.0    2.0    2.0    2.0       2.0       2.0    2.0   \n",
       "\n",
       "     여 40대  여 50대  여 60세이상  남 합계  여 합계     총계  \n",
       "0     15.0   15.0     22.0  74.0  81.0  155.0  \n",
       "450    5.0    6.0      9.0  26.0  28.0   54.0  \n",
       "673    4.0    4.0      6.0  19.0  20.0   39.0  \n",
       "823    4.0    5.0      6.0  23.0  23.0   46.0  \n",
       "991    2.0    2.0      3.0  10.0  11.0   21.0  "
      ]
     },
     "execution_count": 195,
     "metadata": {},
     "output_type": "execute_result"
    }
   ],
   "source": [
    "after_df.head()"
   ]
  },
  {
   "cell_type": "code",
   "execution_count": 147,
   "metadata": {
    "ExecuteTime": {
     "end_time": "2019-09-04T15:36:23.811556Z",
     "start_time": "2019-09-04T15:36:23.806305Z"
    }
   },
   "outputs": [
    {
     "data": {
      "text/plain": [
       "남 합계    393.0\n",
       "여 합계    403.0\n",
       "dtype: float64"
      ]
     },
     "execution_count": 147,
     "metadata": {},
     "output_type": "execute_result"
    }
   ],
   "source": [
    "after_sex_sum"
   ]
  },
  {
   "cell_type": "code",
   "execution_count": 148,
   "metadata": {
    "ExecuteTime": {
     "end_time": "2019-09-04T15:36:24.470047Z",
     "start_time": "2019-09-04T15:36:24.467049Z"
    }
   },
   "outputs": [],
   "source": [
    "# 2,3단계 남여 합계의 차이\n",
    "'''\n",
    "차이는 세 가지 경우로 나뉜다: 남여 각각 차이가 1. 0이거나 / 2. 0보다 크거나 / 3. 0보다 작거나 \n",
    "1. 0인 경우는 추가적인 일 없이 표 완성\n",
    "2. 만약 차이가 0보다 큰 경우 : xx.5 보다 작고 xx.5에 가장 가까운 값인 반올림 값에 + 1 \n",
    "- Why? 반올림하여 내림이 된 값 중 가장 올림에 가까운 값에 1을 더하는 것이 이상적이기 때문\n",
    "    ex) 2.49999 -> round(2.49999) + 1\n",
    "3. 만약 차이가 0보다 작은 경우 : xx.5 이상이고 xx.5에 가장 가까운 값인 반올림 값에 - 1\n",
    "- Why? 반올림하여 올림이 된 값 중 가장 내림에 가까운 값에 1을 빼는 것이 이상적이기 때문\n",
    "    ex) 2.50001 -> round(2.50001) - 1\n",
    "'''\n",
    "sex_diff = before_sex_sum - after_sex_sum"
   ]
  },
  {
   "cell_type": "code",
   "execution_count": 149,
   "metadata": {
    "ExecuteTime": {
     "end_time": "2019-09-04T15:36:24.998629Z",
     "start_time": "2019-09-04T15:36:24.991649Z"
    }
   },
   "outputs": [
    {
     "data": {
      "text/plain": [
       "남 합계    4.0\n",
       "여 합계    0.0\n",
       "dtype: float64"
      ]
     },
     "execution_count": 149,
     "metadata": {},
     "output_type": "execute_result"
    }
   ],
   "source": [
    "sex_diff"
   ]
  },
  {
   "cell_type": "code",
   "execution_count": 150,
   "metadata": {
    "ExecuteTime": {
     "end_time": "2019-09-04T15:36:25.602073Z",
     "start_time": "2019-09-04T15:36:25.598087Z"
    }
   },
   "outputs": [
    {
     "name": "stdout",
     "output_type": "stream",
     "text": [
      "sex_cols_lst:  [['남 19-29세', '남 30대', '남 40대', '남 50대', '남 60세 이상'], ['여 19-29세', '여 30대', '여 40대', '여 50대', '여 60세이상']]\n",
      "sex_cols:  ['남 합계', '여 합계']\n"
     ]
    }
   ],
   "source": [
    "# 성별 합계 차이를 매꾸는 단계\n",
    "sex_cols_lst = [male_cols, female_cols]\n",
    "sex_idx = ['남 합계' ,'여 합계']\n",
    "print('sex_cols_lst: ',sex_cols_lst)\n",
    "print('sex_cols: ',sex_idx)"
   ]
  },
  {
   "cell_type": "code",
   "execution_count": 151,
   "metadata": {
    "ExecuteTime": {
     "end_time": "2019-09-04T15:36:26.057870Z",
     "start_time": "2019-09-04T15:36:26.047871Z"
    }
   },
   "outputs": [],
   "source": [
    "# 차이가 0보다 큰 경우\n",
    "'''\n",
    "1단계: 2단계 반올림 전 값을 모두 내림 한 후 0.5를 더 한다.\n",
    "2단계: 1번에서 한 값과 2단계 반올림 전 값을 뺀다.\n",
    "3단계: 음수로 나오는 값은 모두 1로 변환. 1이 가장 큰 값이기 때문.\n",
    "ex) 13.45 -> 13 으로 내림 후 (13 + 0.5) - 13.45 = 0.05\n",
    "'''\n",
    "temp = (before_df[sex_cols_lst[0]].astype(int) + 0.5) - before_df[sex_cols_lst[0]] # 1,2번\n",
    "temp = temp[temp >0].fillna(1) # 3번\n",
    "v = 1"
   ]
  },
  {
   "cell_type": "code",
   "execution_count": 207,
   "metadata": {
    "ExecuteTime": {
     "end_time": "2019-09-04T16:53:22.446188Z",
     "start_time": "2019-09-04T16:53:22.437199Z"
    }
   },
   "outputs": [
    {
     "data": {
      "text/html": [
       "<div>\n",
       "<style scoped>\n",
       "    .dataframe tbody tr th:only-of-type {\n",
       "        vertical-align: middle;\n",
       "    }\n",
       "\n",
       "    .dataframe tbody tr th {\n",
       "        vertical-align: top;\n",
       "    }\n",
       "\n",
       "    .dataframe thead th {\n",
       "        text-align: right;\n",
       "    }\n",
       "</style>\n",
       "<table border=\"1\" class=\"dataframe\">\n",
       "  <thead>\n",
       "    <tr style=\"text-align: right;\">\n",
       "      <th></th>\n",
       "      <th>남 19-29세</th>\n",
       "      <th>남 30대</th>\n",
       "      <th>남 40대</th>\n",
       "      <th>남 50대</th>\n",
       "      <th>남 60세 이상</th>\n",
       "    </tr>\n",
       "  </thead>\n",
       "  <tbody>\n",
       "    <tr>\n",
       "      <th>0</th>\n",
       "      <td>14.300537</td>\n",
       "      <td>14.126572</td>\n",
       "      <td>14.415756</td>\n",
       "      <td>14.032083</td>\n",
       "      <td>17.905212</td>\n",
       "    </tr>\n",
       "    <tr>\n",
       "      <th>450</th>\n",
       "      <td>4.639806</td>\n",
       "      <td>4.195999</td>\n",
       "      <td>4.836001</td>\n",
       "      <td>5.272683</td>\n",
       "      <td>7.441729</td>\n",
       "    </tr>\n",
       "    <tr>\n",
       "      <th>673</th>\n",
       "      <td>3.575523</td>\n",
       "      <td>2.968133</td>\n",
       "      <td>3.624239</td>\n",
       "      <td>3.911238</td>\n",
       "      <td>4.488033</td>\n",
       "    </tr>\n",
       "    <tr>\n",
       "      <th>823</th>\n",
       "      <td>4.294466</td>\n",
       "      <td>4.069472</td>\n",
       "      <td>4.631292</td>\n",
       "      <td>4.801260</td>\n",
       "      <td>4.912517</td>\n",
       "    </tr>\n",
       "    <tr>\n",
       "      <th>991</th>\n",
       "      <td>2.218002</td>\n",
       "      <td>1.840049</td>\n",
       "      <td>2.255890</td>\n",
       "      <td>2.136970</td>\n",
       "      <td>2.299701</td>\n",
       "    </tr>\n",
       "  </tbody>\n",
       "</table>\n",
       "</div>"
      ],
      "text/plain": [
       "      남 19-29세      남 30대      남 40대      남 50대   남 60세 이상\n",
       "0    14.300537  14.126572  14.415756  14.032083  17.905212\n",
       "450   4.639806   4.195999   4.836001   5.272683   7.441729\n",
       "673   3.575523   2.968133   3.624239   3.911238   4.488033\n",
       "823   4.294466   4.069472   4.631292   4.801260   4.912517\n",
       "991   2.218002   1.840049   2.255890   2.136970   2.299701"
      ]
     },
     "execution_count": 207,
     "metadata": {},
     "output_type": "execute_result"
    }
   ],
   "source": [
    "# 2단계 값\n",
    "before_df[sex_cols_lst[0]].head()"
   ]
  },
  {
   "cell_type": "code",
   "execution_count": 153,
   "metadata": {
    "ExecuteTime": {
     "end_time": "2019-09-04T15:36:27.292467Z",
     "start_time": "2019-09-04T15:36:27.284489Z"
    }
   },
   "outputs": [
    {
     "data": {
      "text/html": [
       "<div>\n",
       "<style scoped>\n",
       "    .dataframe tbody tr th:only-of-type {\n",
       "        vertical-align: middle;\n",
       "    }\n",
       "\n",
       "    .dataframe tbody tr th {\n",
       "        vertical-align: top;\n",
       "    }\n",
       "\n",
       "    .dataframe thead th {\n",
       "        text-align: right;\n",
       "    }\n",
       "</style>\n",
       "<table border=\"1\" class=\"dataframe\">\n",
       "  <thead>\n",
       "    <tr style=\"text-align: right;\">\n",
       "      <th></th>\n",
       "      <th>남 19-29세</th>\n",
       "      <th>남 30대</th>\n",
       "      <th>남 40대</th>\n",
       "      <th>남 50대</th>\n",
       "      <th>남 60세 이상</th>\n",
       "    </tr>\n",
       "  </thead>\n",
       "  <tbody>\n",
       "    <tr>\n",
       "      <th>0</th>\n",
       "      <td>14</td>\n",
       "      <td>14</td>\n",
       "      <td>14</td>\n",
       "      <td>14</td>\n",
       "      <td>17</td>\n",
       "    </tr>\n",
       "    <tr>\n",
       "      <th>450</th>\n",
       "      <td>4</td>\n",
       "      <td>4</td>\n",
       "      <td>4</td>\n",
       "      <td>5</td>\n",
       "      <td>7</td>\n",
       "    </tr>\n",
       "    <tr>\n",
       "      <th>673</th>\n",
       "      <td>3</td>\n",
       "      <td>2</td>\n",
       "      <td>3</td>\n",
       "      <td>3</td>\n",
       "      <td>4</td>\n",
       "    </tr>\n",
       "    <tr>\n",
       "      <th>823</th>\n",
       "      <td>4</td>\n",
       "      <td>4</td>\n",
       "      <td>4</td>\n",
       "      <td>4</td>\n",
       "      <td>4</td>\n",
       "    </tr>\n",
       "    <tr>\n",
       "      <th>991</th>\n",
       "      <td>2</td>\n",
       "      <td>1</td>\n",
       "      <td>2</td>\n",
       "      <td>2</td>\n",
       "      <td>2</td>\n",
       "    </tr>\n",
       "  </tbody>\n",
       "</table>\n",
       "</div>"
      ],
      "text/plain": [
       "     남 19-29세  남 30대  남 40대  남 50대  남 60세 이상\n",
       "0          14     14     14     14        17\n",
       "450         4      4      4      5         7\n",
       "673         3      2      3      3         4\n",
       "823         4      4      4      4         4\n",
       "991         2      1      2      2         2"
      ]
     },
     "execution_count": 153,
     "metadata": {},
     "output_type": "execute_result"
    }
   ],
   "source": [
    "# 전체 소수점을 내림한다.\n",
    "before_df[sex_cols_lst[0]].astype(int).head()"
   ]
  },
  {
   "cell_type": "code",
   "execution_count": 154,
   "metadata": {
    "ExecuteTime": {
     "end_time": "2019-09-04T15:36:27.843036Z",
     "start_time": "2019-09-04T15:36:27.830065Z"
    }
   },
   "outputs": [
    {
     "data": {
      "text/html": [
       "<div>\n",
       "<style scoped>\n",
       "    .dataframe tbody tr th:only-of-type {\n",
       "        vertical-align: middle;\n",
       "    }\n",
       "\n",
       "    .dataframe tbody tr th {\n",
       "        vertical-align: top;\n",
       "    }\n",
       "\n",
       "    .dataframe thead th {\n",
       "        text-align: right;\n",
       "    }\n",
       "</style>\n",
       "<table border=\"1\" class=\"dataframe\">\n",
       "  <thead>\n",
       "    <tr style=\"text-align: right;\">\n",
       "      <th></th>\n",
       "      <th>남 19-29세</th>\n",
       "      <th>남 30대</th>\n",
       "      <th>남 40대</th>\n",
       "      <th>남 50대</th>\n",
       "      <th>남 60세 이상</th>\n",
       "    </tr>\n",
       "  </thead>\n",
       "  <tbody>\n",
       "    <tr>\n",
       "      <th>0</th>\n",
       "      <td>14.5</td>\n",
       "      <td>14.5</td>\n",
       "      <td>14.5</td>\n",
       "      <td>14.5</td>\n",
       "      <td>17.5</td>\n",
       "    </tr>\n",
       "    <tr>\n",
       "      <th>450</th>\n",
       "      <td>4.5</td>\n",
       "      <td>4.5</td>\n",
       "      <td>4.5</td>\n",
       "      <td>5.5</td>\n",
       "      <td>7.5</td>\n",
       "    </tr>\n",
       "    <tr>\n",
       "      <th>673</th>\n",
       "      <td>3.5</td>\n",
       "      <td>2.5</td>\n",
       "      <td>3.5</td>\n",
       "      <td>3.5</td>\n",
       "      <td>4.5</td>\n",
       "    </tr>\n",
       "    <tr>\n",
       "      <th>823</th>\n",
       "      <td>4.5</td>\n",
       "      <td>4.5</td>\n",
       "      <td>4.5</td>\n",
       "      <td>4.5</td>\n",
       "      <td>4.5</td>\n",
       "    </tr>\n",
       "    <tr>\n",
       "      <th>991</th>\n",
       "      <td>2.5</td>\n",
       "      <td>1.5</td>\n",
       "      <td>2.5</td>\n",
       "      <td>2.5</td>\n",
       "      <td>2.5</td>\n",
       "    </tr>\n",
       "  </tbody>\n",
       "</table>\n",
       "</div>"
      ],
      "text/plain": [
       "     남 19-29세  남 30대  남 40대  남 50대  남 60세 이상\n",
       "0        14.5   14.5   14.5   14.5      17.5\n",
       "450       4.5    4.5    4.5    5.5       7.5\n",
       "673       3.5    2.5    3.5    3.5       4.5\n",
       "823       4.5    4.5    4.5    4.5       4.5\n",
       "991       2.5    1.5    2.5    2.5       2.5"
      ]
     },
     "execution_count": 154,
     "metadata": {},
     "output_type": "execute_result"
    }
   ],
   "source": [
    "# 내림된 값에다 0.5를 더한다.\n",
    "(before_df[sex_cols_lst[0]].astype(int) + 0.5).head()"
   ]
  },
  {
   "cell_type": "code",
   "execution_count": 155,
   "metadata": {
    "ExecuteTime": {
     "end_time": "2019-09-04T15:36:28.385382Z",
     "start_time": "2019-09-04T15:36:28.373390Z"
    }
   },
   "outputs": [
    {
     "data": {
      "text/html": [
       "<div>\n",
       "<style scoped>\n",
       "    .dataframe tbody tr th:only-of-type {\n",
       "        vertical-align: middle;\n",
       "    }\n",
       "\n",
       "    .dataframe tbody tr th {\n",
       "        vertical-align: top;\n",
       "    }\n",
       "\n",
       "    .dataframe thead th {\n",
       "        text-align: right;\n",
       "    }\n",
       "</style>\n",
       "<table border=\"1\" class=\"dataframe\">\n",
       "  <thead>\n",
       "    <tr style=\"text-align: right;\">\n",
       "      <th></th>\n",
       "      <th>남 19-29세</th>\n",
       "      <th>남 30대</th>\n",
       "      <th>남 40대</th>\n",
       "      <th>남 50대</th>\n",
       "      <th>남 60세 이상</th>\n",
       "    </tr>\n",
       "  </thead>\n",
       "  <tbody>\n",
       "    <tr>\n",
       "      <th>0</th>\n",
       "      <td>0.199463</td>\n",
       "      <td>0.373428</td>\n",
       "      <td>0.084244</td>\n",
       "      <td>0.467917</td>\n",
       "      <td>-0.405212</td>\n",
       "    </tr>\n",
       "    <tr>\n",
       "      <th>450</th>\n",
       "      <td>-0.139806</td>\n",
       "      <td>0.304001</td>\n",
       "      <td>-0.336001</td>\n",
       "      <td>0.227317</td>\n",
       "      <td>0.058271</td>\n",
       "    </tr>\n",
       "    <tr>\n",
       "      <th>673</th>\n",
       "      <td>-0.075523</td>\n",
       "      <td>-0.468133</td>\n",
       "      <td>-0.124239</td>\n",
       "      <td>-0.411238</td>\n",
       "      <td>0.011967</td>\n",
       "    </tr>\n",
       "    <tr>\n",
       "      <th>823</th>\n",
       "      <td>0.205534</td>\n",
       "      <td>0.430528</td>\n",
       "      <td>-0.131292</td>\n",
       "      <td>-0.301260</td>\n",
       "      <td>-0.412517</td>\n",
       "    </tr>\n",
       "    <tr>\n",
       "      <th>991</th>\n",
       "      <td>0.281998</td>\n",
       "      <td>-0.340049</td>\n",
       "      <td>0.244110</td>\n",
       "      <td>0.363030</td>\n",
       "      <td>0.200299</td>\n",
       "    </tr>\n",
       "  </tbody>\n",
       "</table>\n",
       "</div>"
      ],
      "text/plain": [
       "     남 19-29세     남 30대     남 40대     남 50대  남 60세 이상\n",
       "0    0.199463  0.373428  0.084244  0.467917 -0.405212\n",
       "450 -0.139806  0.304001 -0.336001  0.227317  0.058271\n",
       "673 -0.075523 -0.468133 -0.124239 -0.411238  0.011967\n",
       "823  0.205534  0.430528 -0.131292 -0.301260 -0.412517\n",
       "991  0.281998 -0.340049  0.244110  0.363030  0.200299"
      ]
     },
     "execution_count": 155,
     "metadata": {},
     "output_type": "execute_result"
    }
   ],
   "source": [
    "# 0.5를 더한 값에 2단계를 뺀다\n",
    "test = (before_df[sex_cols_lst[0]].astype(int) + 0.5) - before_df[sex_cols_lst[0]]\n",
    "test.head()"
   ]
  },
  {
   "cell_type": "code",
   "execution_count": 156,
   "metadata": {
    "ExecuteTime": {
     "end_time": "2019-09-04T15:36:28.951381Z",
     "start_time": "2019-09-04T15:36:28.940410Z"
    }
   },
   "outputs": [
    {
     "data": {
      "text/html": [
       "<div>\n",
       "<style scoped>\n",
       "    .dataframe tbody tr th:only-of-type {\n",
       "        vertical-align: middle;\n",
       "    }\n",
       "\n",
       "    .dataframe tbody tr th {\n",
       "        vertical-align: top;\n",
       "    }\n",
       "\n",
       "    .dataframe thead th {\n",
       "        text-align: right;\n",
       "    }\n",
       "</style>\n",
       "<table border=\"1\" class=\"dataframe\">\n",
       "  <thead>\n",
       "    <tr style=\"text-align: right;\">\n",
       "      <th></th>\n",
       "      <th>남 19-29세</th>\n",
       "      <th>남 30대</th>\n",
       "      <th>남 40대</th>\n",
       "      <th>남 50대</th>\n",
       "      <th>남 60세 이상</th>\n",
       "    </tr>\n",
       "  </thead>\n",
       "  <tbody>\n",
       "    <tr>\n",
       "      <th>0</th>\n",
       "      <td>0.199463</td>\n",
       "      <td>0.373428</td>\n",
       "      <td>0.084244</td>\n",
       "      <td>0.467917</td>\n",
       "      <td>NaN</td>\n",
       "    </tr>\n",
       "    <tr>\n",
       "      <th>450</th>\n",
       "      <td>NaN</td>\n",
       "      <td>0.304001</td>\n",
       "      <td>NaN</td>\n",
       "      <td>0.227317</td>\n",
       "      <td>0.058271</td>\n",
       "    </tr>\n",
       "    <tr>\n",
       "      <th>673</th>\n",
       "      <td>NaN</td>\n",
       "      <td>NaN</td>\n",
       "      <td>NaN</td>\n",
       "      <td>NaN</td>\n",
       "      <td>0.011967</td>\n",
       "    </tr>\n",
       "    <tr>\n",
       "      <th>823</th>\n",
       "      <td>0.205534</td>\n",
       "      <td>0.430528</td>\n",
       "      <td>NaN</td>\n",
       "      <td>NaN</td>\n",
       "      <td>NaN</td>\n",
       "    </tr>\n",
       "    <tr>\n",
       "      <th>991</th>\n",
       "      <td>0.281998</td>\n",
       "      <td>NaN</td>\n",
       "      <td>0.244110</td>\n",
       "      <td>0.363030</td>\n",
       "      <td>0.200299</td>\n",
       "    </tr>\n",
       "  </tbody>\n",
       "</table>\n",
       "</div>"
      ],
      "text/plain": [
       "     남 19-29세     남 30대     남 40대     남 50대  남 60세 이상\n",
       "0    0.199463  0.373428  0.084244  0.467917       NaN\n",
       "450       NaN  0.304001       NaN  0.227317  0.058271\n",
       "673       NaN       NaN       NaN       NaN  0.011967\n",
       "823  0.205534  0.430528       NaN       NaN       NaN\n",
       "991  0.281998       NaN  0.244110  0.363030  0.200299"
      ]
     },
     "execution_count": 156,
     "metadata": {},
     "output_type": "execute_result"
    }
   ],
   "source": [
    "# 0보다 큰 값만 사용한다.\n",
    "test[test>0].head()"
   ]
  },
  {
   "cell_type": "code",
   "execution_count": 157,
   "metadata": {
    "ExecuteTime": {
     "end_time": "2019-09-04T15:36:29.480842Z",
     "start_time": "2019-09-04T15:36:29.466879Z"
    }
   },
   "outputs": [
    {
     "data": {
      "text/html": [
       "<div>\n",
       "<style scoped>\n",
       "    .dataframe tbody tr th:only-of-type {\n",
       "        vertical-align: middle;\n",
       "    }\n",
       "\n",
       "    .dataframe tbody tr th {\n",
       "        vertical-align: top;\n",
       "    }\n",
       "\n",
       "    .dataframe thead th {\n",
       "        text-align: right;\n",
       "    }\n",
       "</style>\n",
       "<table border=\"1\" class=\"dataframe\">\n",
       "  <thead>\n",
       "    <tr style=\"text-align: right;\">\n",
       "      <th></th>\n",
       "      <th>남 19-29세</th>\n",
       "      <th>남 30대</th>\n",
       "      <th>남 40대</th>\n",
       "      <th>남 50대</th>\n",
       "      <th>남 60세 이상</th>\n",
       "    </tr>\n",
       "  </thead>\n",
       "  <tbody>\n",
       "    <tr>\n",
       "      <th>0</th>\n",
       "      <td>0.199463</td>\n",
       "      <td>0.373428</td>\n",
       "      <td>0.084244</td>\n",
       "      <td>0.467917</td>\n",
       "      <td>1.000000</td>\n",
       "    </tr>\n",
       "    <tr>\n",
       "      <th>450</th>\n",
       "      <td>1.000000</td>\n",
       "      <td>0.304001</td>\n",
       "      <td>1.000000</td>\n",
       "      <td>0.227317</td>\n",
       "      <td>0.058271</td>\n",
       "    </tr>\n",
       "    <tr>\n",
       "      <th>673</th>\n",
       "      <td>1.000000</td>\n",
       "      <td>1.000000</td>\n",
       "      <td>1.000000</td>\n",
       "      <td>1.000000</td>\n",
       "      <td>0.011967</td>\n",
       "    </tr>\n",
       "    <tr>\n",
       "      <th>823</th>\n",
       "      <td>0.205534</td>\n",
       "      <td>0.430528</td>\n",
       "      <td>1.000000</td>\n",
       "      <td>1.000000</td>\n",
       "      <td>1.000000</td>\n",
       "    </tr>\n",
       "    <tr>\n",
       "      <th>991</th>\n",
       "      <td>0.281998</td>\n",
       "      <td>1.000000</td>\n",
       "      <td>0.244110</td>\n",
       "      <td>0.363030</td>\n",
       "      <td>0.200299</td>\n",
       "    </tr>\n",
       "  </tbody>\n",
       "</table>\n",
       "</div>"
      ],
      "text/plain": [
       "     남 19-29세     남 30대     남 40대     남 50대  남 60세 이상\n",
       "0    0.199463  0.373428  0.084244  0.467917  1.000000\n",
       "450  1.000000  0.304001  1.000000  0.227317  0.058271\n",
       "673  1.000000  1.000000  1.000000  1.000000  0.011967\n",
       "823  0.205534  0.430528  1.000000  1.000000  1.000000\n",
       "991  0.281998  1.000000  0.244110  0.363030  0.200299"
      ]
     },
     "execution_count": 157,
     "metadata": {},
     "output_type": "execute_result"
    }
   ],
   "source": [
    "# NaN은 Not a Number의 약자. 결측치라는 얘기. \n",
    "# 결측치는 모두 1로 처리 가장 크기 때문\n",
    "test2 = test[test>0].fillna(1)\n",
    "test2.head()"
   ]
  },
  {
   "cell_type": "code",
   "execution_count": 196,
   "metadata": {
    "ExecuteTime": {
     "end_time": "2019-09-04T16:28:46.362267Z",
     "start_time": "2019-09-04T16:28:46.358289Z"
    }
   },
   "outputs": [
    {
     "data": {
      "text/plain": [
       "4"
      ]
     },
     "execution_count": 196,
     "metadata": {},
     "output_type": "execute_result"
    }
   ],
   "source": [
    "# 실제합계와의 차이: 절대값을 통해서 음수를 변환하고 정수로 타입을 변환\n",
    "cnt = int(abs(sex_diff.loc[sex_idx[0]]))\n",
    "cnt"
   ]
  },
  {
   "cell_type": "code",
   "execution_count": 159,
   "metadata": {
    "ExecuteTime": {
     "end_time": "2019-09-04T15:36:30.685678Z",
     "start_time": "2019-09-04T15:36:30.680691Z"
    }
   },
   "outputs": [
    {
     "data": {
      "text/plain": [
       "array([0.19946269, 0.37342836, 0.08424444, 0.46791658, 1.        ,\n",
       "       1.        , 0.30400127, 1.        , 0.22731681, 0.05827082,\n",
       "       1.        , 1.        , 1.        , 1.        , 0.01196697,\n",
       "       0.20553362, 0.43052849, 1.        , 1.        , 1.        ,\n",
       "       0.28199782, 1.        , 0.24410999, 0.36303003, 0.20029929,\n",
       "       0.2249162 , 1.        , 0.2389645 , 0.24742309, 0.03107191,\n",
       "       1.        , 1.        , 1.        , 0.49444361, 1.        ,\n",
       "       0.13642859, 1.        , 1.        , 0.1064811 , 0.11049754,\n",
       "       1.        , 0.13337831, 0.02374421, 1.        , 1.        ,\n",
       "       0.44513575, 1.        , 0.29971089, 1.        , 1.        ,\n",
       "       0.25408631, 1.        , 0.14919606, 1.        , 0.24460788,\n",
       "       1.        , 1.        , 0.25038267, 0.17917872, 0.12059603,\n",
       "       0.13405574, 1.        , 1.        , 1.        , 0.43833927,\n",
       "       0.20738822, 1.        , 1.        , 0.36058499, 0.01054178,\n",
       "       0.11908014, 0.43123368, 1.        , 0.03989698, 0.33059493,\n",
       "       0.10240172, 0.34742328, 0.29753979, 1.        , 0.05488553,\n",
       "       1.        , 1.        , 0.40947085, 0.43716024, 0.33047463])"
      ]
     },
     "execution_count": 159,
     "metadata": {},
     "output_type": "execute_result"
    }
   ],
   "source": [
    "# 1행으로 변환\n",
    "test3 = test2.values\n",
    "test3.ravel()"
   ]
  },
  {
   "cell_type": "code",
   "execution_count": 160,
   "metadata": {
    "ExecuteTime": {
     "end_time": "2019-09-04T15:36:31.241600Z",
     "start_time": "2019-09-04T15:36:31.237579Z"
    }
   },
   "outputs": [
    {
     "data": {
      "text/plain": [
       "array([69, 14, 42, 29, 73, 79,  9,  2, 75, 38, 39, 70, 59, 41, 60, 35, 52,\n",
       "       58,  0, 24, 15, 65, 25,  8, 27, 22, 54, 28, 57, 50, 20, 77, 47,  6,\n",
       "       84, 74, 76, 68, 23,  1, 82, 16, 71, 83, 64, 45,  3, 33, 61, 62, 63,\n",
       "       80, 66, 67,  7, 72, 78,  5, 81,  4, 19, 56, 21, 26, 17, 30, 31, 32,\n",
       "       34, 36, 37, 13, 40, 12, 43, 44, 46, 48, 49, 18, 11, 53, 55, 10, 51],\n",
       "      dtype=int64)"
      ]
     },
     "execution_count": 160,
     "metadata": {},
     "output_type": "execute_result"
    }
   ],
   "source": [
    "# 작은 값을 기준으로 각 값들의 위치를 표시하여 정렬\n",
    "np.argsort(test3.ravel())"
   ]
  },
  {
   "cell_type": "code",
   "execution_count": 161,
   "metadata": {
    "ExecuteTime": {
     "end_time": "2019-09-04T15:36:31.728599Z",
     "start_time": "2019-09-04T15:36:31.725606Z"
    }
   },
   "outputs": [
    {
     "data": {
      "text/plain": [
       "array([69, 14, 42, 29], dtype=int64)"
      ]
     },
     "execution_count": 161,
     "metadata": {},
     "output_type": "execute_result"
    }
   ],
   "source": [
    "# 상위 n개 선택\n",
    "np.argsort(test3.ravel())[:cnt]"
   ]
  },
  {
   "cell_type": "code",
   "execution_count": 205,
   "metadata": {
    "ExecuteTime": {
     "end_time": "2019-09-04T16:41:07.720143Z",
     "start_time": "2019-09-04T16:41:07.717138Z"
    }
   },
   "outputs": [
    {
     "data": {
      "text/plain": [
       "(array([13,  2,  8,  5], dtype=int64), array([4, 4, 2, 4], dtype=int64))"
      ]
     },
     "execution_count": 205,
     "metadata": {},
     "output_type": "execute_result"
    }
   ],
   "source": [
    "row_col"
   ]
  },
  {
   "cell_type": "code",
   "execution_count": 162,
   "metadata": {
    "ExecuteTime": {
     "end_time": "2019-09-04T15:36:32.265015Z",
     "start_time": "2019-09-04T15:36:32.260028Z"
    }
   },
   "outputs": [
    {
     "name": "stdout",
     "output_type": "stream",
     "text": [
      "rows:  [13  2  8  5]\n",
      "cols:  [4 4 2 4]\n"
     ]
    }
   ],
   "source": [
    "# unravel_index라는 함수를 통해서 각 위치 좌표를 추출\n",
    "row_col = np.unravel_index(np.argsort(test3.ravel())[:cnt], test3.shape)\n",
    "rows = row_col[0]\n",
    "cols = row_col[1]\n",
    "print('rows: ',rows)\n",
    "print('cols: ',cols)"
   ]
  },
  {
   "cell_type": "code",
   "execution_count": 179,
   "metadata": {
    "ExecuteTime": {
     "end_time": "2019-09-04T15:42:04.935390Z",
     "start_time": "2019-09-04T15:42:04.926414Z"
    }
   },
   "outputs": [
    {
     "data": {
      "text/html": [
       "<div>\n",
       "<style scoped>\n",
       "    .dataframe tbody tr th:only-of-type {\n",
       "        vertical-align: middle;\n",
       "    }\n",
       "\n",
       "    .dataframe tbody tr th {\n",
       "        vertical-align: top;\n",
       "    }\n",
       "\n",
       "    .dataframe thead th {\n",
       "        text-align: right;\n",
       "    }\n",
       "</style>\n",
       "<table border=\"1\" class=\"dataframe\">\n",
       "  <thead>\n",
       "    <tr style=\"text-align: right;\">\n",
       "      <th></th>\n",
       "      <th>남 19-29세</th>\n",
       "      <th>남 30대</th>\n",
       "      <th>남 40대</th>\n",
       "      <th>남 50대</th>\n",
       "      <th>남 60세 이상</th>\n",
       "    </tr>\n",
       "  </thead>\n",
       "  <tbody>\n",
       "    <tr>\n",
       "      <th>0</th>\n",
       "      <td>14.300537</td>\n",
       "      <td>14.126572</td>\n",
       "      <td>14.415756</td>\n",
       "      <td>14.032083</td>\n",
       "      <td>17.905212</td>\n",
       "    </tr>\n",
       "    <tr>\n",
       "      <th>450</th>\n",
       "      <td>4.639806</td>\n",
       "      <td>4.195999</td>\n",
       "      <td>4.836001</td>\n",
       "      <td>5.272683</td>\n",
       "      <td>7.441729</td>\n",
       "    </tr>\n",
       "    <tr>\n",
       "      <th>673</th>\n",
       "      <td>3.575523</td>\n",
       "      <td>2.968133</td>\n",
       "      <td>3.624239</td>\n",
       "      <td>3.911238</td>\n",
       "      <td>4.488033</td>\n",
       "    </tr>\n",
       "    <tr>\n",
       "      <th>823</th>\n",
       "      <td>4.294466</td>\n",
       "      <td>4.069472</td>\n",
       "      <td>4.631292</td>\n",
       "      <td>4.801260</td>\n",
       "      <td>4.912517</td>\n",
       "    </tr>\n",
       "    <tr>\n",
       "      <th>991</th>\n",
       "      <td>2.218002</td>\n",
       "      <td>1.840049</td>\n",
       "      <td>2.255890</td>\n",
       "      <td>2.136970</td>\n",
       "      <td>2.299701</td>\n",
       "    </tr>\n",
       "  </tbody>\n",
       "</table>\n",
       "</div>"
      ],
      "text/plain": [
       "      남 19-29세      남 30대      남 40대      남 50대   남 60세 이상\n",
       "0    14.300537  14.126572  14.415756  14.032083  17.905212\n",
       "450   4.639806   4.195999   4.836001   5.272683   7.441729\n",
       "673   3.575523   2.968133   3.624239   3.911238   4.488033\n",
       "823   4.294466   4.069472   4.631292   4.801260   4.912517\n",
       "991   2.218002   1.840049   2.255890   2.136970   2.299701"
      ]
     },
     "execution_count": 179,
     "metadata": {},
     "output_type": "execute_result"
    }
   ],
   "source": [
    "# 남자들 인구만 추출\n",
    "temp = before_df[sex_cols_lst[0]].copy() \n",
    "temp.head()"
   ]
  },
  {
   "cell_type": "code",
   "execution_count": 180,
   "metadata": {
    "ExecuteTime": {
     "end_time": "2019-09-04T15:42:07.791876Z",
     "start_time": "2019-09-04T15:42:07.788880Z"
    }
   },
   "outputs": [
    {
     "name": "stdout",
     "output_type": "stream",
     "text": [
      "전라남도의 남 60세 이상: 4.489458224361857\n"
     ]
    }
   ],
   "source": [
    "# 아슬아슬한애가 누구인지 확인\n",
    "value = temp.iloc[rows[0] ,cols[0]]\n",
    "print('{}의 {}: {}'.format(df[level].iloc[rows[0]], sex_cols_lst[0][cols[0]], value))"
   ]
  },
  {
   "cell_type": "code",
   "execution_count": 186,
   "metadata": {
    "ExecuteTime": {
     "end_time": "2019-09-04T15:42:39.828386Z",
     "start_time": "2019-09-04T15:42:39.823369Z"
    }
   },
   "outputs": [
    {
     "name": "stdout",
     "output_type": "stream",
     "text": [
      "1만큼 더해진 값:  5.0\n"
     ]
    }
   ],
   "source": [
    "# 아슬아슬한 애들에게 1만큼 더하기\n",
    "temp = after_df[sex_cols_lst[0]].copy()\n",
    "print('1만큼 더해진 값: ',temp.iloc[rows[0] ,cols[0]] + v)"
   ]
  },
  {
   "cell_type": "code",
   "execution_count": 208,
   "metadata": {
    "ExecuteTime": {
     "end_time": "2019-09-04T16:53:29.039256Z",
     "start_time": "2019-09-04T16:53:29.029282Z"
    }
   },
   "outputs": [
    {
     "data": {
      "text/html": [
       "<div>\n",
       "<style scoped>\n",
       "    .dataframe tbody tr th:only-of-type {\n",
       "        vertical-align: middle;\n",
       "    }\n",
       "\n",
       "    .dataframe tbody tr th {\n",
       "        vertical-align: top;\n",
       "    }\n",
       "\n",
       "    .dataframe thead th {\n",
       "        text-align: right;\n",
       "    }\n",
       "</style>\n",
       "<table border=\"1\" class=\"dataframe\">\n",
       "  <thead>\n",
       "    <tr style=\"text-align: right;\">\n",
       "      <th></th>\n",
       "      <th>남 19-29세</th>\n",
       "      <th>남 30대</th>\n",
       "      <th>남 40대</th>\n",
       "      <th>남 50대</th>\n",
       "      <th>남 60세 이상</th>\n",
       "    </tr>\n",
       "  </thead>\n",
       "  <tbody>\n",
       "    <tr>\n",
       "      <th>0</th>\n",
       "      <td>14.0</td>\n",
       "      <td>14.0</td>\n",
       "      <td>14.0</td>\n",
       "      <td>14.0</td>\n",
       "      <td>18.0</td>\n",
       "    </tr>\n",
       "    <tr>\n",
       "      <th>450</th>\n",
       "      <td>5.0</td>\n",
       "      <td>4.0</td>\n",
       "      <td>5.0</td>\n",
       "      <td>5.0</td>\n",
       "      <td>7.0</td>\n",
       "    </tr>\n",
       "    <tr>\n",
       "      <th>673</th>\n",
       "      <td>4.0</td>\n",
       "      <td>3.0</td>\n",
       "      <td>4.0</td>\n",
       "      <td>4.0</td>\n",
       "      <td>5.0</td>\n",
       "    </tr>\n",
       "    <tr>\n",
       "      <th>823</th>\n",
       "      <td>4.0</td>\n",
       "      <td>4.0</td>\n",
       "      <td>5.0</td>\n",
       "      <td>5.0</td>\n",
       "      <td>5.0</td>\n",
       "    </tr>\n",
       "    <tr>\n",
       "      <th>991</th>\n",
       "      <td>2.0</td>\n",
       "      <td>2.0</td>\n",
       "      <td>2.0</td>\n",
       "      <td>2.0</td>\n",
       "      <td>2.0</td>\n",
       "    </tr>\n",
       "    <tr>\n",
       "      <th>1092</th>\n",
       "      <td>2.0</td>\n",
       "      <td>2.0</td>\n",
       "      <td>2.0</td>\n",
       "      <td>2.0</td>\n",
       "      <td>3.0</td>\n",
       "    </tr>\n",
       "    <tr>\n",
       "      <th>1177</th>\n",
       "      <td>2.0</td>\n",
       "      <td>2.0</td>\n",
       "      <td>2.0</td>\n",
       "      <td>2.0</td>\n",
       "      <td>2.0</td>\n",
       "    </tr>\n",
       "    <tr>\n",
       "      <th>1239</th>\n",
       "      <td>0.0</td>\n",
       "      <td>1.0</td>\n",
       "      <td>1.0</td>\n",
       "      <td>0.0</td>\n",
       "      <td>0.0</td>\n",
       "    </tr>\n",
       "    <tr>\n",
       "      <th>1259</th>\n",
       "      <td>19.0</td>\n",
       "      <td>18.0</td>\n",
       "      <td>22.0</td>\n",
       "      <td>21.0</td>\n",
       "      <td>21.0</td>\n",
       "    </tr>\n",
       "    <tr>\n",
       "      <th>1847</th>\n",
       "      <td>2.0</td>\n",
       "      <td>2.0</td>\n",
       "      <td>2.0</td>\n",
       "      <td>3.0</td>\n",
       "      <td>4.0</td>\n",
       "    </tr>\n",
       "    <tr>\n",
       "      <th>2060</th>\n",
       "      <td>2.0</td>\n",
       "      <td>2.0</td>\n",
       "      <td>2.0</td>\n",
       "      <td>3.0</td>\n",
       "      <td>3.0</td>\n",
       "    </tr>\n",
       "    <tr>\n",
       "      <th>2229</th>\n",
       "      <td>3.0</td>\n",
       "      <td>3.0</td>\n",
       "      <td>3.0</td>\n",
       "      <td>3.0</td>\n",
       "      <td>4.0</td>\n",
       "    </tr>\n",
       "    <tr>\n",
       "      <th>2456</th>\n",
       "      <td>2.0</td>\n",
       "      <td>2.0</td>\n",
       "      <td>3.0</td>\n",
       "      <td>3.0</td>\n",
       "      <td>4.0</td>\n",
       "    </tr>\n",
       "    <tr>\n",
       "      <th>2716</th>\n",
       "      <td>2.0</td>\n",
       "      <td>2.0</td>\n",
       "      <td>3.0</td>\n",
       "      <td>3.0</td>\n",
       "      <td>6.0</td>\n",
       "    </tr>\n",
       "  </tbody>\n",
       "</table>\n",
       "</div>"
      ],
      "text/plain": [
       "      남 19-29세  남 30대  남 40대  남 50대  남 60세 이상\n",
       "0         14.0   14.0   14.0   14.0      18.0\n",
       "450        5.0    4.0    5.0    5.0       7.0\n",
       "673        4.0    3.0    4.0    4.0       5.0\n",
       "823        4.0    4.0    5.0    5.0       5.0\n",
       "991        2.0    2.0    2.0    2.0       2.0\n",
       "1092       2.0    2.0    2.0    2.0       3.0\n",
       "1177       2.0    2.0    2.0    2.0       2.0\n",
       "1239       0.0    1.0    1.0    0.0       0.0\n",
       "1259      19.0   18.0   22.0   21.0      21.0\n",
       "1847       2.0    2.0    2.0    3.0       4.0\n",
       "2060       2.0    2.0    2.0    3.0       3.0\n",
       "2229       3.0    3.0    3.0    3.0       4.0\n",
       "2456       2.0    2.0    3.0    3.0       4.0\n",
       "2716       2.0    2.0    3.0    3.0       6.0"
      ]
     },
     "execution_count": 208,
     "metadata": {},
     "output_type": "execute_result"
    }
   ],
   "source": [
    "# 3단계 데이터프레임에 전라남도의 남 60세 이상에 1을 더해줌\n",
    "temp.iloc[rows[0] ,cols[0]] = temp.iloc[rows[0] ,cols[0]] + v\n",
    "temp.head(14)"
   ]
  },
  {
   "cell_type": "code",
   "execution_count": 189,
   "metadata": {
    "ExecuteTime": {
     "end_time": "2019-09-04T15:43:38.026985Z",
     "start_time": "2019-09-04T15:43:38.009049Z"
    }
   },
   "outputs": [
    {
     "name": "stdout",
     "output_type": "stream",
     "text": [
      "전라남도의 남 60세 이상: 4.489458224361857\n",
      "대구광역시의 남 60세 이상: 4.48803303478388\n",
      "경기도의 남 40대: 21.47625578636223\n",
      "대전광역시의 남 60세 이상: 2.4689280908567612\n",
      "\n"
     ]
    }
   ],
   "source": [
    "# 위에 내용을 일반화\n",
    "for r in range(len(rows)):\n",
    "    temp = before_df[sex_cols_lst[0]].copy()\n",
    "    value = temp.iloc[rows[r] ,cols[r]]\n",
    "    print('{}의 {}: {}'.format(df[level].iloc[rows[r]], sex_cols_lst[0][cols[r]], value))\n",
    "    temp = after_df[sex_cols_lst[0]].copy()\n",
    "    temp.iloc[rows[r] ,cols[r]] = temp.iloc[rows[r] ,cols[r]] + v\n",
    "    after_df[sex_cols_lst[0]] = temp\n",
    "print()"
   ]
  },
  {
   "cell_type": "code",
   "execution_count": 190,
   "metadata": {
    "ExecuteTime": {
     "end_time": "2019-09-04T15:43:39.844445Z",
     "start_time": "2019-09-04T15:43:39.832504Z"
    }
   },
   "outputs": [
    {
     "data": {
      "text/plain": [
       "남 합계    397.0\n",
       "여 합계    403.0\n",
       "dtype: float64"
      ]
     },
     "execution_count": 190,
     "metadata": {},
     "output_type": "execute_result"
    }
   ],
   "source": [
    "# 부족한 부분이 채워졌으면 합계 계산\n",
    "after_df['남 합계'] = after_df[male_cols].sum(axis=1)\n",
    "after_df['여 합계'] = after_df[female_cols].sum(axis=1)\n",
    "after_df['총계'] = after_df[['남 합계','여 합계']].sum(axis=1)\n",
    "after_df[['남 합계','여 합계']].sum()"
   ]
  },
  {
   "cell_type": "code",
   "execution_count": 191,
   "metadata": {
    "ExecuteTime": {
     "end_time": "2019-09-04T15:43:40.562942Z",
     "start_time": "2019-09-04T15:43:40.544989Z"
    }
   },
   "outputs": [
    {
     "data": {
      "text/html": [
       "<div>\n",
       "<style scoped>\n",
       "    .dataframe tbody tr th:only-of-type {\n",
       "        vertical-align: middle;\n",
       "    }\n",
       "\n",
       "    .dataframe tbody tr th {\n",
       "        vertical-align: top;\n",
       "    }\n",
       "\n",
       "    .dataframe thead th {\n",
       "        text-align: right;\n",
       "    }\n",
       "</style>\n",
       "<table border=\"1\" class=\"dataframe\">\n",
       "  <thead>\n",
       "    <tr style=\"text-align: right;\">\n",
       "      <th></th>\n",
       "      <th>구분</th>\n",
       "      <th>광역시도</th>\n",
       "      <th>남 19-29세</th>\n",
       "      <th>남 30대</th>\n",
       "      <th>남 40대</th>\n",
       "      <th>남 50대</th>\n",
       "      <th>남 60세 이상</th>\n",
       "      <th>여 19-29세</th>\n",
       "      <th>여 30대</th>\n",
       "      <th>여 40대</th>\n",
       "      <th>여 50대</th>\n",
       "      <th>여 60세이상</th>\n",
       "      <th>남 합계</th>\n",
       "      <th>여 합계</th>\n",
       "      <th>총계</th>\n",
       "    </tr>\n",
       "  </thead>\n",
       "  <tbody>\n",
       "    <tr>\n",
       "      <th>0</th>\n",
       "      <td>광역시도</td>\n",
       "      <td>서울특별시</td>\n",
       "      <td>14.0</td>\n",
       "      <td>14.0</td>\n",
       "      <td>14.0</td>\n",
       "      <td>14.0</td>\n",
       "      <td>18.0</td>\n",
       "      <td>15.0</td>\n",
       "      <td>14.0</td>\n",
       "      <td>15.0</td>\n",
       "      <td>15.0</td>\n",
       "      <td>22.0</td>\n",
       "      <td>74.0</td>\n",
       "      <td>81.0</td>\n",
       "      <td>155.0</td>\n",
       "    </tr>\n",
       "    <tr>\n",
       "      <th>450</th>\n",
       "      <td>광역시도</td>\n",
       "      <td>부산광역시</td>\n",
       "      <td>5.0</td>\n",
       "      <td>4.0</td>\n",
       "      <td>5.0</td>\n",
       "      <td>5.0</td>\n",
       "      <td>7.0</td>\n",
       "      <td>4.0</td>\n",
       "      <td>4.0</td>\n",
       "      <td>5.0</td>\n",
       "      <td>6.0</td>\n",
       "      <td>9.0</td>\n",
       "      <td>26.0</td>\n",
       "      <td>28.0</td>\n",
       "      <td>54.0</td>\n",
       "    </tr>\n",
       "    <tr>\n",
       "      <th>673</th>\n",
       "      <td>광역시도</td>\n",
       "      <td>대구광역시</td>\n",
       "      <td>4.0</td>\n",
       "      <td>3.0</td>\n",
       "      <td>4.0</td>\n",
       "      <td>4.0</td>\n",
       "      <td>5.0</td>\n",
       "      <td>3.0</td>\n",
       "      <td>3.0</td>\n",
       "      <td>4.0</td>\n",
       "      <td>4.0</td>\n",
       "      <td>6.0</td>\n",
       "      <td>20.0</td>\n",
       "      <td>20.0</td>\n",
       "      <td>40.0</td>\n",
       "    </tr>\n",
       "    <tr>\n",
       "      <th>823</th>\n",
       "      <td>광역시도</td>\n",
       "      <td>인천광역시</td>\n",
       "      <td>4.0</td>\n",
       "      <td>4.0</td>\n",
       "      <td>5.0</td>\n",
       "      <td>5.0</td>\n",
       "      <td>5.0</td>\n",
       "      <td>4.0</td>\n",
       "      <td>4.0</td>\n",
       "      <td>4.0</td>\n",
       "      <td>5.0</td>\n",
       "      <td>6.0</td>\n",
       "      <td>23.0</td>\n",
       "      <td>23.0</td>\n",
       "      <td>46.0</td>\n",
       "    </tr>\n",
       "    <tr>\n",
       "      <th>991</th>\n",
       "      <td>광역시도</td>\n",
       "      <td>광주광역시</td>\n",
       "      <td>2.0</td>\n",
       "      <td>2.0</td>\n",
       "      <td>2.0</td>\n",
       "      <td>2.0</td>\n",
       "      <td>2.0</td>\n",
       "      <td>2.0</td>\n",
       "      <td>2.0</td>\n",
       "      <td>2.0</td>\n",
       "      <td>2.0</td>\n",
       "      <td>3.0</td>\n",
       "      <td>10.0</td>\n",
       "      <td>11.0</td>\n",
       "      <td>21.0</td>\n",
       "    </tr>\n",
       "    <tr>\n",
       "      <th>1092</th>\n",
       "      <td>광역시도</td>\n",
       "      <td>대전광역시</td>\n",
       "      <td>2.0</td>\n",
       "      <td>2.0</td>\n",
       "      <td>2.0</td>\n",
       "      <td>2.0</td>\n",
       "      <td>3.0</td>\n",
       "      <td>2.0</td>\n",
       "      <td>2.0</td>\n",
       "      <td>2.0</td>\n",
       "      <td>2.0</td>\n",
       "      <td>3.0</td>\n",
       "      <td>11.0</td>\n",
       "      <td>11.0</td>\n",
       "      <td>22.0</td>\n",
       "    </tr>\n",
       "    <tr>\n",
       "      <th>1177</th>\n",
       "      <td>광역시도</td>\n",
       "      <td>울산광역시</td>\n",
       "      <td>2.0</td>\n",
       "      <td>2.0</td>\n",
       "      <td>2.0</td>\n",
       "      <td>2.0</td>\n",
       "      <td>2.0</td>\n",
       "      <td>1.0</td>\n",
       "      <td>1.0</td>\n",
       "      <td>2.0</td>\n",
       "      <td>2.0</td>\n",
       "      <td>2.0</td>\n",
       "      <td>10.0</td>\n",
       "      <td>8.0</td>\n",
       "      <td>18.0</td>\n",
       "    </tr>\n",
       "    <tr>\n",
       "      <th>1239</th>\n",
       "      <td>광역시도</td>\n",
       "      <td>세종특별자치시</td>\n",
       "      <td>0.0</td>\n",
       "      <td>1.0</td>\n",
       "      <td>1.0</td>\n",
       "      <td>0.0</td>\n",
       "      <td>0.0</td>\n",
       "      <td>0.0</td>\n",
       "      <td>1.0</td>\n",
       "      <td>1.0</td>\n",
       "      <td>0.0</td>\n",
       "      <td>0.0</td>\n",
       "      <td>2.0</td>\n",
       "      <td>2.0</td>\n",
       "      <td>4.0</td>\n",
       "    </tr>\n",
       "    <tr>\n",
       "      <th>1259</th>\n",
       "      <td>광역시도</td>\n",
       "      <td>경기도</td>\n",
       "      <td>19.0</td>\n",
       "      <td>18.0</td>\n",
       "      <td>22.0</td>\n",
       "      <td>21.0</td>\n",
       "      <td>21.0</td>\n",
       "      <td>17.0</td>\n",
       "      <td>17.0</td>\n",
       "      <td>21.0</td>\n",
       "      <td>20.0</td>\n",
       "      <td>24.0</td>\n",
       "      <td>101.0</td>\n",
       "      <td>99.0</td>\n",
       "      <td>200.0</td>\n",
       "    </tr>\n",
       "    <tr>\n",
       "      <th>1847</th>\n",
       "      <td>광역시도</td>\n",
       "      <td>강원도</td>\n",
       "      <td>2.0</td>\n",
       "      <td>2.0</td>\n",
       "      <td>2.0</td>\n",
       "      <td>3.0</td>\n",
       "      <td>4.0</td>\n",
       "      <td>2.0</td>\n",
       "      <td>2.0</td>\n",
       "      <td>2.0</td>\n",
       "      <td>2.0</td>\n",
       "      <td>4.0</td>\n",
       "      <td>13.0</td>\n",
       "      <td>12.0</td>\n",
       "      <td>25.0</td>\n",
       "    </tr>\n",
       "    <tr>\n",
       "      <th>2060</th>\n",
       "      <td>광역시도</td>\n",
       "      <td>충청북도</td>\n",
       "      <td>2.0</td>\n",
       "      <td>2.0</td>\n",
       "      <td>2.0</td>\n",
       "      <td>3.0</td>\n",
       "      <td>3.0</td>\n",
       "      <td>2.0</td>\n",
       "      <td>2.0</td>\n",
       "      <td>2.0</td>\n",
       "      <td>2.0</td>\n",
       "      <td>4.0</td>\n",
       "      <td>12.0</td>\n",
       "      <td>12.0</td>\n",
       "      <td>24.0</td>\n",
       "    </tr>\n",
       "    <tr>\n",
       "      <th>2229</th>\n",
       "      <td>광역시도</td>\n",
       "      <td>충청남도</td>\n",
       "      <td>3.0</td>\n",
       "      <td>3.0</td>\n",
       "      <td>3.0</td>\n",
       "      <td>3.0</td>\n",
       "      <td>4.0</td>\n",
       "      <td>2.0</td>\n",
       "      <td>2.0</td>\n",
       "      <td>3.0</td>\n",
       "      <td>3.0</td>\n",
       "      <td>5.0</td>\n",
       "      <td>16.0</td>\n",
       "      <td>15.0</td>\n",
       "      <td>31.0</td>\n",
       "    </tr>\n",
       "    <tr>\n",
       "      <th>2456</th>\n",
       "      <td>광역시도</td>\n",
       "      <td>전라북도</td>\n",
       "      <td>2.0</td>\n",
       "      <td>2.0</td>\n",
       "      <td>3.0</td>\n",
       "      <td>3.0</td>\n",
       "      <td>4.0</td>\n",
       "      <td>2.0</td>\n",
       "      <td>2.0</td>\n",
       "      <td>2.0</td>\n",
       "      <td>3.0</td>\n",
       "      <td>5.0</td>\n",
       "      <td>14.0</td>\n",
       "      <td>14.0</td>\n",
       "      <td>28.0</td>\n",
       "    </tr>\n",
       "    <tr>\n",
       "      <th>2716</th>\n",
       "      <td>광역시도</td>\n",
       "      <td>전라남도</td>\n",
       "      <td>2.0</td>\n",
       "      <td>2.0</td>\n",
       "      <td>3.0</td>\n",
       "      <td>3.0</td>\n",
       "      <td>5.0</td>\n",
       "      <td>2.0</td>\n",
       "      <td>2.0</td>\n",
       "      <td>2.0</td>\n",
       "      <td>3.0</td>\n",
       "      <td>6.0</td>\n",
       "      <td>15.0</td>\n",
       "      <td>15.0</td>\n",
       "      <td>30.0</td>\n",
       "    </tr>\n",
       "    <tr>\n",
       "      <th>3062</th>\n",
       "      <td>광역시도</td>\n",
       "      <td>경상북도</td>\n",
       "      <td>3.0</td>\n",
       "      <td>3.0</td>\n",
       "      <td>4.0</td>\n",
       "      <td>4.0</td>\n",
       "      <td>6.0</td>\n",
       "      <td>3.0</td>\n",
       "      <td>3.0</td>\n",
       "      <td>3.0</td>\n",
       "      <td>4.0</td>\n",
       "      <td>8.0</td>\n",
       "      <td>20.0</td>\n",
       "      <td>21.0</td>\n",
       "      <td>41.0</td>\n",
       "    </tr>\n",
       "    <tr>\n",
       "      <th>3433</th>\n",
       "      <td>광역시도</td>\n",
       "      <td>경상남도</td>\n",
       "      <td>4.0</td>\n",
       "      <td>4.0</td>\n",
       "      <td>5.0</td>\n",
       "      <td>6.0</td>\n",
       "      <td>6.0</td>\n",
       "      <td>4.0</td>\n",
       "      <td>4.0</td>\n",
       "      <td>5.0</td>\n",
       "      <td>5.0</td>\n",
       "      <td>8.0</td>\n",
       "      <td>25.0</td>\n",
       "      <td>26.0</td>\n",
       "      <td>51.0</td>\n",
       "    </tr>\n",
       "    <tr>\n",
       "      <th>3770</th>\n",
       "      <td>광역시도</td>\n",
       "      <td>제주특별자치도</td>\n",
       "      <td>1.0</td>\n",
       "      <td>1.0</td>\n",
       "      <td>1.0</td>\n",
       "      <td>1.0</td>\n",
       "      <td>1.0</td>\n",
       "      <td>1.0</td>\n",
       "      <td>1.0</td>\n",
       "      <td>1.0</td>\n",
       "      <td>1.0</td>\n",
       "      <td>1.0</td>\n",
       "      <td>5.0</td>\n",
       "      <td>5.0</td>\n",
       "      <td>10.0</td>\n",
       "    </tr>\n",
       "  </tbody>\n",
       "</table>\n",
       "</div>"
      ],
      "text/plain": [
       "        구분     광역시도  남 19-29세  남 30대  남 40대  남 50대  남 60세 이상  여 19-29세  여 30대  \\\n",
       "0     광역시도    서울특별시      14.0   14.0   14.0   14.0      18.0      15.0   14.0   \n",
       "450   광역시도    부산광역시       5.0    4.0    5.0    5.0       7.0       4.0    4.0   \n",
       "673   광역시도    대구광역시       4.0    3.0    4.0    4.0       5.0       3.0    3.0   \n",
       "823   광역시도    인천광역시       4.0    4.0    5.0    5.0       5.0       4.0    4.0   \n",
       "991   광역시도    광주광역시       2.0    2.0    2.0    2.0       2.0       2.0    2.0   \n",
       "1092  광역시도    대전광역시       2.0    2.0    2.0    2.0       3.0       2.0    2.0   \n",
       "1177  광역시도    울산광역시       2.0    2.0    2.0    2.0       2.0       1.0    1.0   \n",
       "1239  광역시도  세종특별자치시       0.0    1.0    1.0    0.0       0.0       0.0    1.0   \n",
       "1259  광역시도      경기도      19.0   18.0   22.0   21.0      21.0      17.0   17.0   \n",
       "1847  광역시도      강원도       2.0    2.0    2.0    3.0       4.0       2.0    2.0   \n",
       "2060  광역시도     충청북도       2.0    2.0    2.0    3.0       3.0       2.0    2.0   \n",
       "2229  광역시도     충청남도       3.0    3.0    3.0    3.0       4.0       2.0    2.0   \n",
       "2456  광역시도     전라북도       2.0    2.0    3.0    3.0       4.0       2.0    2.0   \n",
       "2716  광역시도     전라남도       2.0    2.0    3.0    3.0       5.0       2.0    2.0   \n",
       "3062  광역시도     경상북도       3.0    3.0    4.0    4.0       6.0       3.0    3.0   \n",
       "3433  광역시도     경상남도       4.0    4.0    5.0    6.0       6.0       4.0    4.0   \n",
       "3770  광역시도  제주특별자치도       1.0    1.0    1.0    1.0       1.0       1.0    1.0   \n",
       "\n",
       "      여 40대  여 50대  여 60세이상   남 합계  여 합계     총계  \n",
       "0      15.0   15.0     22.0   74.0  81.0  155.0  \n",
       "450     5.0    6.0      9.0   26.0  28.0   54.0  \n",
       "673     4.0    4.0      6.0   20.0  20.0   40.0  \n",
       "823     4.0    5.0      6.0   23.0  23.0   46.0  \n",
       "991     2.0    2.0      3.0   10.0  11.0   21.0  \n",
       "1092    2.0    2.0      3.0   11.0  11.0   22.0  \n",
       "1177    2.0    2.0      2.0   10.0   8.0   18.0  \n",
       "1239    1.0    0.0      0.0    2.0   2.0    4.0  \n",
       "1259   21.0   20.0     24.0  101.0  99.0  200.0  \n",
       "1847    2.0    2.0      4.0   13.0  12.0   25.0  \n",
       "2060    2.0    2.0      4.0   12.0  12.0   24.0  \n",
       "2229    3.0    3.0      5.0   16.0  15.0   31.0  \n",
       "2456    2.0    3.0      5.0   14.0  14.0   28.0  \n",
       "2716    2.0    3.0      6.0   15.0  15.0   30.0  \n",
       "3062    3.0    4.0      8.0   20.0  21.0   41.0  \n",
       "3433    5.0    5.0      8.0   25.0  26.0   51.0  \n",
       "3770    1.0    1.0      1.0    5.0   5.0   10.0  "
      ]
     },
     "execution_count": 191,
     "metadata": {},
     "output_type": "execute_result"
    }
   ],
   "source": [
    "after_df"
   ]
  }
 ],
 "metadata": {
  "hide_input": false,
  "kernelspec": {
   "display_name": "Python 3",
   "language": "python",
   "name": "python3"
  },
  "language_info": {
   "codemirror_mode": {
    "name": "ipython",
    "version": 3
   },
   "file_extension": ".py",
   "mimetype": "text/x-python",
   "name": "python",
   "nbconvert_exporter": "python",
   "pygments_lexer": "ipython3",
   "version": "3.7.3"
  },
  "toc": {
   "base_numbering": 1,
   "nav_menu": {},
   "number_sections": true,
   "sideBar": true,
   "skip_h1_title": false,
   "title_cell": "Table of Contents",
   "title_sidebar": "Contents",
   "toc_cell": true,
   "toc_position": {},
   "toc_section_display": true,
   "toc_window_display": false
  },
  "varInspector": {
   "cols": {
    "lenName": 16,
    "lenType": 16,
    "lenVar": 40
   },
   "kernels_config": {
    "python": {
     "delete_cmd_postfix": "",
     "delete_cmd_prefix": "del ",
     "library": "var_list.py",
     "varRefreshCmd": "print(var_dic_list())"
    },
    "r": {
     "delete_cmd_postfix": ") ",
     "delete_cmd_prefix": "rm(",
     "library": "var_list.r",
     "varRefreshCmd": "cat(var_dic_list()) "
    }
   },
   "types_to_exclude": [
    "module",
    "function",
    "builtin_function_or_method",
    "instance",
    "_Feature"
   ],
   "window_display": false
  }
 },
 "nbformat": 4,
 "nbformat_minor": 2
}
