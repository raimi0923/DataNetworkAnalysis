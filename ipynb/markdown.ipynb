{
  "cells": [
    {
      "cell_type": "markdown",
      "metadata": {
        "toc": true,
        "pycharm": {}
      },
      "source": [
        "\u003ch1\u003eTable of Contents\u003cspan class\u003d\"tocSkip\"\u003e\u003c/span\u003e\u003c/h1\u003e\n",
        "\u003cdiv class\u003d\"toc\"\u003e\u003cul class\u003d\"toc-item\"\u003e\u003cli\u003e\u003cspan\u003e\u003ca href\u003d\"#Heading1\" data-toc-modified-id\u003d\"Heading1-1\"\u003e\u003cspan class\u003d\"toc-item-num\"\u003e1\u0026nbsp;\u0026nbsp;\u003c/span\u003eHeading1\u003c/a\u003e\u003c/span\u003e\u003cul class\u003d\"toc-item\"\u003e\u003cli\u003e\u003cspan\u003e\u003ca href\u003d\"#Heading2\" data-toc-modified-id\u003d\"Heading2-1.1\"\u003e\u003cspan class\u003d\"toc-item-num\"\u003e1.1\u0026nbsp;\u0026nbsp;\u003c/span\u003eHeading2\u003c/a\u003e\u003c/span\u003e\u003cul class\u003d\"toc-item\"\u003e\u003cli\u003e\u003cspan\u003e\u003ca href\u003d\"#Heading3\" data-toc-modified-id\u003d\"Heading3-1.1.1\"\u003e\u003cspan class\u003d\"toc-item-num\"\u003e1.1.1\u0026nbsp;\u0026nbsp;\u003c/span\u003eHeading3\u003c/a\u003e\u003c/span\u003e\u003cul class\u003d\"toc-item\"\u003e\u003cli\u003e\u003cspan\u003e\u003ca href\u003d\"#Heading4\" data-toc-modified-id\u003d\"Heading4-1.1.1.1\"\u003e\u003cspan class\u003d\"toc-item-num\"\u003e1.1.1.1\u0026nbsp;\u0026nbsp;\u003c/span\u003eHeading4\u003c/a\u003e\u003c/span\u003e\u003c/li\u003e\u003c/ul\u003e\u003c/li\u003e\u003c/ul\u003e\u003c/li\u003e\u003c/ul\u003e\u003c/li\u003e\u003c/ul\u003e\u003c/div\u003e"
      ]
    },
    {
      "cell_type": "markdown",
      "metadata": {
        "pycharm": {}
      },
      "source": [
        "# Heading1\n",
        "## Heading2\n",
        "### Heading3\n",
        "#### Heading4"
      ]
    },
    {
      "cell_type": "markdown",
      "metadata": {
        "pycharm": {}
      },
      "source": [
        "이거는 *글씨 기울이기* 그리고 이거는 **글씨 굵게하기** 이거는 `글씨를 칠하기`\n"
      ]
    },
    {
      "cell_type": "markdown",
      "metadata": {
        "pycharm": {}
      },
      "source": [
        "외부 링크를 걸어보자\n",
        "https://www.naver.com/ 이렇게도 할 수 있지만 [네이버](https://www.naver.com/) 이렇게도 할 수 있다."
      ]
    },
    {
      "cell_type": "markdown",
      "metadata": {
        "pycharm": {}
      },
      "source": [
        "이미지을 가져와보자 이미지는 느낌표를 붙여야한다 ![고양이](http://blogfiles.naver.net/MjAxODA4MDdfMjgw/MDAxNTMzNjI5NTg4MTM2.yH7rYZMjcBuZu0kbukf89a0XSTFFsY8Z0IjMeuAmFHcg.852GjRpNhyLbjUEsCNpaA-X5TUO91KVXzzf8Kmu-Vo8g.JPEG.mgr8709/%B0%ED%BE%E7%C0%CC%B9%DF%C5%E9%B1%F0%B1%E2_3.jpg)"
      ]
    },
    {
      "cell_type": "markdown",
      "metadata": {
        "pycharm": {}
      },
      "source": [
        "Index 만들기\n",
        "- 이렇게도 만들수 있고\n",
        "- 이렇게\n",
        "- 이렇게\n",
        "\n",
        "Index 만들기2\n",
        "1. 숫자도 가능\n",
        "2. 숫자도 가능\n",
        "3. 숫자도 가능"
      ]
    },
    {
      "cell_type": "markdown",
      "metadata": {
        "pycharm": {}
      },
      "source": [
        "인용 문구 넣는 방법도 간단\n",
        "\u003e 이렇게 하면 끝"
      ]
    },
    {
      "cell_type": "markdown",
      "metadata": {
        "pycharm": {}
      },
      "source": [
        "Code Script를 Markdown에 넣어보자\n",
        "\n",
        "```python\n",
        "import pandas as pd\n",
        "import numpy as np \n",
        "\n",
        "print(\u0027Hello World\u0027)\n",
        "```"
      ]
    },
    {
      "cell_type": "markdown",
      "metadata": {
        "pycharm": {}
      },
      "source": [
        "테이블도 만들어보자\n",
        "\n",
        "index | 변수1 | 변수2 | 변수3\n",
        "---|---|---|---\n",
        "1 | v1 | v2 | v3\n",
        "2 | v11 | v22 | v33"
      ]
    },
    {
      "cell_type": "markdown",
      "metadata": {
        "pycharm": {}
      },
      "source": [
        "수학 수식 입력도 가능\n",
        "\n",
        "$$RMSE\u003d\\sqrt {\\sum_{i} (Y_{i} - \\hat Y_{i})^2}$$"
      ]
    },
    {
      "cell_type": "markdown",
      "metadata": {
        "pycharm": {}
      },
      "source": [
        "선을 나누는 것도 가능\n",
        "\n",
        "---\n",
        "\n",
        "이렇게\n",
        "\n",
        "---\n",
        "\n",
        "이렇게\n",
        "\n",
        "---"
      ]
    },
    {
      "cell_type": "markdown",
      "metadata": {
        "pycharm": {}
      },
      "source": [
        "**마크다운에서 줄 바꾸는 법**\n",
        "\n",
        "문장 맨 뒤에 띄어쓰기 두번 하면 줄바뀜"
      ]
    },
    {
      "cell_type": "markdown",
      "metadata": {
        "pycharm": {}
      },
      "source": "**알면 유용한 단축키**\n\nctrl + enter : 현재 cell 만 실행  \nshift + enter : 현재 cell 실행 후 다음으로 넘어가기  \n\na : 위에 cell 추가   \nb : 아래 cell 추가  \n\nx : cell 잘라내기  \nc : cell 복사  \nv : 아래 cell 붙여넣기    \nshift + v : 위에 cell 붙여넣기  \n\nf : cell 내부에서 검색하기  \n- 수정도 가능  \n \nm : 현재 cell 마크다운으로 변경  \ny : 현재 cell 코드로 변경  \n\n1 : heading1  \n2 : heading2  \n3 : heading3  \n4 : heading4  \n\n\n그 외는 모두 h에서 확인  \n"
    }
  ],
  "metadata": {
    "hide_input": false,
    "kernelspec": {
      "display_name": "Python 3",
      "language": "python",
      "name": "python3"
    },
    "language_info": {
      "codemirror_mode": {
        "name": "ipython",
        "version": 3
      },
      "file_extension": ".py",
      "mimetype": "text/x-python",
      "name": "python",
      "nbconvert_exporter": "python",
      "pygments_lexer": "ipython3",
      "version": "3.7.3"
    },
    "toc": {
      "base_numbering": 1,
      "nav_menu": {},
      "number_sections": true,
      "sideBar": true,
      "skip_h1_title": false,
      "title_cell": "Table of Contents",
      "title_sidebar": "Contents",
      "toc_cell": true,
      "toc_position": {},
      "toc_section_display": true,
      "toc_window_display": false
    }
  },
  "nbformat": 4,
  "nbformat_minor": 2
}